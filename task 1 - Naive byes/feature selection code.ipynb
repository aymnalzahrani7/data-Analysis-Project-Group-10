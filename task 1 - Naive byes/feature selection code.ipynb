{
 "cells": [
  {
   "cell_type": "code",
   "execution_count": 4,
   "metadata": {},
   "outputs": [
    {
     "ename": "NameError",
     "evalue": "name 'X' is not defined",
     "output_type": "error",
     "traceback": [
      "\u001b[0;31m---------------------------------------------------------------------------\u001b[0m",
      "\u001b[0;31mNameError\u001b[0m                                 Traceback (most recent call last)",
      "Cell \u001b[0;32mIn[4], line 11\u001b[0m\n\u001b[1;32m      9\u001b[0m \u001b[38;5;66;03m# use SelectFromModel function\u001b[39;00m\n\u001b[1;32m     10\u001b[0m sfm \u001b[38;5;241m=\u001b[39m SelectFromModel(model, threshold\u001b[38;5;241m=\u001b[39m\u001b[38;5;241m0.01\u001b[39m)\n\u001b[0;32m---> 11\u001b[0m sfm\u001b[38;5;241m.\u001b[39mfit(\u001b[43mX\u001b[49m, y)\n\u001b[1;32m     12\u001b[0m \u001b[38;5;66;03m# extract important feautres\u001b[39;00m\n\u001b[1;32m     13\u001b[0m X_important \u001b[38;5;241m=\u001b[39m sfm\u001b[38;5;241m.\u001b[39mtransform(X)\n",
      "\u001b[0;31mNameError\u001b[0m: name 'X' is not defined"
     ]
    }
   ],
   "source": [
    "\n",
    "from sklearn.ensemble import RandomForestClassifier\n",
    "from sklearn.feature_selection import SelectFromModel\n",
    "import pandas as pd\n",
    "\n",
    "\n",
    "\n",
    "model = RandomForestClassifier(n_estimators=100, random_state=42)\n",
    "model.fit(X, y)\n",
    "\n",
    "# use SelectFromModel function\n",
    "sfm = SelectFromModel(model, threshold=0.01)\n",
    "sfm.fit(X, y)\n",
    "# extract important feautres\n",
    "X_important = sfm.transform(X)\n",
    "\n",
    "selected_features = X.columns[sfm.get_support()]\n",
    "# new columns\n",
    "X_important_df = pd.DataFrame(X_important, columns=selected_features)\n",
    "\n",
    "print(f'the original features: {X.shape[1]}')\n",
    "print(f'the featurse are selected : {X_important.shape[1]}')\n",
    "print('features :', selected_features.tolist())\n",
    "\n",
    "\n"
   ]
  }
 ],
 "metadata": {
  "kernelspec": {
   "display_name": "Python 3",
   "language": "python",
   "name": "python3"
  },
  "language_info": {
   "codemirror_mode": {
    "name": "ipython",
    "version": 3
   },
   "file_extension": ".py",
   "mimetype": "text/x-python",
   "name": "python",
   "nbconvert_exporter": "python",
   "pygments_lexer": "ipython3",
   "version": "3.12.1"
  }
 },
 "nbformat": 4,
 "nbformat_minor": 2
}
