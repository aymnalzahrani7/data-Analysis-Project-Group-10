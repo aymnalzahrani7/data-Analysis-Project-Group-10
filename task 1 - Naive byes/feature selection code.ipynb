{
 "cells": [
  {
   "cell_type": "code",
   "execution_count": null,
   "metadata": {},
   "outputs": [],
   "source": [
    "\n",
    "from sklearn.ensemble import RandomForestClassifier\n",
    "from sklearn.feature_selection import SelectFromModel\n",
    "import pandas as pd\n",
    "\n",
    "\n",
    "\n",
    "model = RandomForestClassifier(n_estimators=100, random_state=42)\n",
    "model.fit(X, y)\n",
    "\n",
    "# use SelectFromModel function\n",
    "sfm = SelectFromModel(model, threshold=0.01)\n",
    "sfm.fit(X, y)\n",
    "# extract important feautres\n",
    "X_important = sfm.transform(X)\n",
    "\n",
    "selected_features = X.columns[sfm.get_support()]\n",
    "# new columns\n",
    "X_important_df = pd.DataFrame(X_important, columns=selected_features)\n",
    "\n",
    "print(f'the original features: {X.shape[1]}')\n",
    "print(f'the featurse are selected : {X_important.shape[1]}')\n",
    "print('features :', selected_features.tolist())\n",
    "\n",
    "\n"
   ]
  }
 ],
 "metadata": {
  "language_info": {
   "name": "python"
  }
 },
 "nbformat": 4,
 "nbformat_minor": 2
}
