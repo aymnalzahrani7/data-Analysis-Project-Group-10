{
 "cells": [
  {
   "cell_type": "code",
   "execution_count": 1,
   "metadata": {},
   "outputs": [],
   "source": [
    "from ucimlrepo import fetch_ucirepo\n",
    "import numpy as np\n",
    "from sklearn.ensemble import RandomForestClassifier\n",
    "from sklearn.feature_selection import SelectFromModel\n",
    "import pandas as pd\n",
    "import matplotlib.pyplot as plt\n",
    "from sklearn.datasets import make_classification\n",
    "from sklearn.model_selection import train_test_split\n",
    "from sklearn.discriminant_analysis import LinearDiscriminantAnalysis, QuadraticDiscriminantAnalysis\n",
    "from sklearn.metrics import accuracy_score, confusion_matrix, classification_report\n",
    "from sklearn.metrics import (accuracy_score , f1_score , confusion_matrix, ConfusionMatrixDisplay , classification_report)"
   ]
  },
  {
   "cell_type": "code",
   "execution_count": 2,
   "metadata": {},
   "outputs": [],
   "source": [
    "# call data\n",
    "spambase = fetch_ucirepo(id=94)\n",
    "\n"
   ]
  },
  {
   "cell_type": "code",
   "execution_count": 3,
   "metadata": {},
   "outputs": [],
   "source": [
    "# data (as pandas dataframes) \n",
    "X = spambase.data.features \n",
    "y = spambase.data.targets "
   ]
  },
  {
   "cell_type": "code",
   "execution_count": 4,
   "metadata": {},
   "outputs": [
    {
     "name": "stderr",
     "output_type": "stream",
     "text": [
      "/home/codespace/.local/lib/python3.12/site-packages/sklearn/base.py:1473: DataConversionWarning: A column-vector y was passed when a 1d array was expected. Please change the shape of y to (n_samples,), for example using ravel().\n",
      "  return fit_method(estimator, *args, **kwargs)\n",
      "/home/codespace/.local/lib/python3.12/site-packages/sklearn/base.py:1473: DataConversionWarning: A column-vector y was passed when a 1d array was expected. Please change the shape of y to (n_samples,), for example using ravel().\n",
      "  return fit_method(estimator, *args, **kwargs)\n"
     ]
    },
    {
     "name": "stdout",
     "output_type": "stream",
     "text": [
      "the original features: 57\n",
      "the featurse are selected : 24\n",
      "features : ['word_freq_all', 'word_freq_our', 'word_freq_over', 'word_freq_remove', 'word_freq_internet', 'word_freq_will', 'word_freq_free', 'word_freq_business', 'word_freq_email', 'word_freq_you', 'word_freq_your', 'word_freq_000', 'word_freq_money', 'word_freq_hp', 'word_freq_hpl', 'word_freq_george', 'word_freq_1999', 'word_freq_edu', 'char_freq_(', 'char_freq_!', 'char_freq_$', 'capital_run_length_average', 'capital_run_length_longest', 'capital_run_length_total']\n"
     ]
    }
   ],
   "source": [
    "# feature selection code\n",
    "\n",
    "\n",
    "model = RandomForestClassifier(n_estimators=100, random_state=42)\n",
    "model.fit(X, y)\n",
    "\n",
    "# use SelectFromModel function\n",
    "sfm = SelectFromModel(model, threshold=0.01)\n",
    "sfm.fit(X, y)\n",
    "# extract important feautres\n",
    "X_important = sfm.transform(X)\n",
    "\n",
    "selected_features = X.columns[sfm.get_support()]\n",
    "# new columns\n",
    "X_important_df = pd.DataFrame(X_important, columns=selected_features)\n",
    "\n",
    "print(f'the original features: {X.shape[1]}')\n",
    "print(f'the featurse are selected : {X_important.shape[1]}')\n",
    "print('features :', selected_features.tolist())\n",
    "\n",
    "X = X_important_df\n",
    "y = np.ravel(y) \n",
    "\n"
   ]
  },
  {
   "cell_type": "code",
   "execution_count": 5,
   "metadata": {},
   "outputs": [],
   "source": [
    "# train test and split\n",
    "\n",
    "X_train, X_test , y_train,y_test = train_test_split(X,y , test_size=0.25,random_state=40)"
   ]
  },
  {
   "cell_type": "code",
   "execution_count": 6,
   "metadata": {},
   "outputs": [],
   "source": [
    "lda = LinearDiscriminantAnalysis()\n",
    "lda.fit(X_train, y_train)\n",
    "y_pred_lda = lda.predict(X_test)"
   ]
  },
  {
   "cell_type": "code",
   "execution_count": 7,
   "metadata": {},
   "outputs": [
    {
     "name": "stdout",
     "output_type": "stream",
     "text": [
      "LDA Accuracy: 0.8714161598609904\n",
      "Confusion Matrix:\n",
      " [[684  34]\n",
      " [114 319]]\n",
      "Classification Report:\n",
      "               precision    recall  f1-score   support\n",
      "\n",
      "           0       0.86      0.95      0.90       718\n",
      "           1       0.90      0.74      0.81       433\n",
      "\n",
      "    accuracy                           0.87      1151\n",
      "   macro avg       0.88      0.84      0.86      1151\n",
      "weighted avg       0.87      0.87      0.87      1151\n",
      "\n"
     ]
    }
   ],
   "source": [
    "print(\"LDA Accuracy:\", accuracy_score(y_test, y_pred_lda))\n",
    "print(\"Confusion Matrix:\\n\", confusion_matrix(y_test, y_pred_lda))\n",
    "print(\"Classification Report:\\n\", classification_report(y_test, y_pred_lda))"
   ]
  }
 ],
 "metadata": {
  "kernelspec": {
   "display_name": "Python 3",
   "language": "python",
   "name": "python3"
  },
  "language_info": {
   "codemirror_mode": {
    "name": "ipython",
    "version": 3
   },
   "file_extension": ".py",
   "mimetype": "text/x-python",
   "name": "python",
   "nbconvert_exporter": "python",
   "pygments_lexer": "ipython3",
   "version": "3.12.1"
  }
 },
 "nbformat": 4,
 "nbformat_minor": 2
}
